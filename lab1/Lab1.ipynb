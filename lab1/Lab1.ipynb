{
 "cells": [
  {
   "cell_type": "code",
   "execution_count": null,
   "metadata": {},
   "outputs": [],
   "source": [
    "import matplotlib.pyplot as plt\n",
    "import numpy as np\n",
    "import pandas as pd\n",
    "import sklearn.linear_model\n",
    "\n",
    "\n",
    "#def prepare_country_stats(oecd_bli, gdp_per_capita):\n",
    "#    oecd_bli = oecd_bli[oecd_bli[\"INEQUALITY\"]==\"TOT\"]\n",
    "#    oecd_bli = oecd_bli.pivot(index=\"Country\", columns=\"Indicator\", values=\"Value\")\n",
    "#    gdp_per_capita.rename(columns={\"2015\": \"GDP per capita\"}, inplace=True)\n",
    "#    gdp_per_capita.set_index(\"Country\", inplace=True)\n",
    "#    full_country_stats = pd.merge(left=oecd_bli, right=gdp_per_capita,\n",
    "#                                  left_index=True, right_index=True)\n",
    "#    full_country_stats.sort_values(by=\"GDP per capita\", inplace=True)\n",
    "#    remove_indices = [0, 1, 6, 8, 33, 34, 35]\n",
    "#    keep_indices = list(set(range(36)) - set(remove_indices))\n",
    "#    return full_country_stats[[\"GDP per capita\", 'Life satisfaction']].iloc[keep_indices]\n",
    "\n",
    "\n",
    "#def prep_housing_data(housing_data)\n",
    "#    housing_data.sort_values(by=\"median_income\", inplace=True)\n",
    "    \n",
    "# Load the data\n",
    "housing_db = pd.read_csv(\"../datasets/housing/housing.csv\", thousands=',')\n",
    "\n",
    "# Prepare the data\n",
    "X = np.c_[housing_db[\"median_income\"]]\n",
    "y = np.c_[housing_db[\"median_house_value\"]]\n",
    "\n",
    "# Select a linear model\n",
    "model = sklearn.linear_model.LinearRegression()\n",
    "\n",
    "# Train the model\n",
    "model.fit(X, y)\n",
    "\n",
    "#prediction\n",
    "X_new = [[3.0]] \n",
    "print(model.predict(X_new))\n",
    "house_value_predict = model.predict(X)\n",
    "\n",
    "# Visualize the data\n",
    "housing_db.plot(kind='scatter', x=\"median_income\", y='median_house_value')\n",
    "plt.plot( X , house_value_predict, color=\"r\")\n",
    "plt.text(0, 650000, \"medium income vs median house value\", color='b')\n",
    "plt.text(0, 600000, \"medium income vs predicted median house value\", color='r')\n",
    "\n",
    "plt.show()\n",
    "\n",
    "\n"
   ]
  },
  {
   "cell_type": "code",
   "execution_count": null,
   "metadata": {},
   "outputs": [],
   "source": []
  }
 ],
 "metadata": {
  "kernelspec": {
   "display_name": "Python 3",
   "language": "python",
   "name": "python3"
  },
  "language_info": {
   "codemirror_mode": {
    "name": "ipython",
    "version": 3
   },
   "file_extension": ".py",
   "mimetype": "text/x-python",
   "name": "python",
   "nbconvert_exporter": "python",
   "pygments_lexer": "ipython3",
   "version": "3.7.3"
  }
 },
 "nbformat": 4,
 "nbformat_minor": 2
}
